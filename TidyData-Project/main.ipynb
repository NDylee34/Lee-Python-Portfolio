{
 "cells": [
  {
   "cell_type": "markdown",
   "metadata": {},
   "source": [
    "# 🏅 Tidy Data Project: Olympics 2008 Medalists\n",
    "## 📌 Objective\n",
    "This project applies **tidy data principles** to clean, reshape, and visualize a dataset of **2008 Olympics medalists**.\n",
    "\n",
    "## 📌 Why Tidy Data?\n",
    "Tidy data ensures:\n",
    "1. **Each variable** has its own column.\n",
    "2. **Each observation** has its own row.\n",
    "3. **Each type of observational unit** forms its own table.\n",
    "\n",
    "By structuring data in a **tidy format**, we can easily analyze trends, visualize data, and perform transformations."
   ]
  },
  {
   "cell_type": "code",
   "execution_count": null,
   "metadata": {},
   "outputs": [],
   "source": [
    "import pandas as pd\n",
    "import matplotlib.pyplot as plt\n",
    "import seaborn as sns\n",
    "\n",
    "# Loading data\n",
    "df = pd.read_csv(\"TidyData-Project/data/olympics_08_medalists.csv\")\n",
    "\n",
    "# Display basic info\n",
    "print(\"Dataset Overview:\\n\")\n",
    "print(df.info())\n",
    "\n",
    "# Display first few rows\n",
    "df.head()\n",
    "\n",
    "# Convert wide format to long format\n",
    "df_long = df.melt(id_vars=[\"medalist_name\"], var_name=\"sport_gender\", value_name=\"medal\")\n",
    "\n",
    "# Drop rows with missing medal values\n",
    "df_long = df_long.dropna(subset=[\"medal\"])\n",
    "\n",
    "# Extract gender and sport separately\n",
    "df_long[[\"gender\", \"sport\"]] = df_long[\"sport_gender\"].str.extract(r'^(male|female)_(.*)')\n",
    "\n",
    "# Clean sport names\n",
    "df_long[\"sport\"] = df_long[\"sport\"].str.replace(\"_\", \" \").str.title()\n",
    "\n",
    "# Keep only necessary columns\n",
    "df_long = df_long[[\"medalist_name\", \"sport\", \"gender\", \"medal\"]].reset_index(drop=True)\n",
    "\n",
    "# Display transformed data\n",
    "df_long.head()"
   ]
  }
 ],
 "metadata": {
  "kernelspec": {
   "display_name": "base",
   "language": "python",
   "name": "python3"
  },
  "language_info": {
   "name": "python",
   "version": "3.12.7"
  }
 },
 "nbformat": 4,
 "nbformat_minor": 2
}
