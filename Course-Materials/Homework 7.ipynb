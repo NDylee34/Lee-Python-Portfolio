{
 "cells": [
  {
   "cell_type": "markdown",
   "id": "0f47ee3b",
   "metadata": {},
   "source": [
    "# spaCy NLP Tasks Assignment"
   ]
  },
  {
   "cell_type": "code",
   "execution_count": null,
   "id": "d5c2b025",
   "metadata": {},
   "outputs": [],
   "source": [
    "# Import spaCy and load the English model\n",
    "import spacy\n",
    "\n",
    "# Load the small English model\n",
    "nlp = spacy.load(\"en_core_web_sm\")"
   ]
  },
  {
   "cell_type": "markdown",
   "id": "1b4f08ea",
   "metadata": {},
   "source": [
    "## Task 1: Tokenization"
   ]
  },
  {
   "cell_type": "code",
   "execution_count": null,
   "id": "bfa6fd62",
   "metadata": {},
   "outputs": [],
   "source": [
    "print(\"---- Task 1: Tokenization ----\")\n",
    "text1 = \"The quick brown fox doesn't jump over the lazy dog. Natural Language Processing is fascinating!\"\n",
    "doc1 = nlp(text1)\n",
    "\n",
    "for token in doc1:\n",
    "    print(f\"Token: {token.text}, Head: {token.head.text}, Lemma: {token.lemma_}, Morph: {token.morph}\")\n",
    "\n",
    "# Questions answered in comments:\n",
    "# 1. spaCy processes each word and punctuation as a token. It uses .text to display token, .head to show syntactic head, .lemma_ for the root form, and .morph for grammatical details.\n",
    "# 2. Punctuation marks like periods and commas are treated as separate tokens. For example, \".\" is a token on its own.\n",
    "# 3. Contractions like \"doesn't\" are split internally into components: \"does\" and \"n't\" for processing, though it is shown as a single token in some contexts.\n"
   ]
  },
  {
   "cell_type": "markdown",
   "id": "c7d7d8d7",
   "metadata": {},
   "source": [
    "## Task 2: Part-of-Speech Tagging"
   ]
  },
  {
   "cell_type": "code",
   "execution_count": null,
   "id": "ffc725e5",
   "metadata": {},
   "outputs": [],
   "source": [
    "print(\"\\n---- Task 2: Part-of-Speech Tagging ----\")\n",
    "for token in doc1:\n",
    "    print(f\"Token: {token.text}, POS: {token.pos_}, Tag: {token.tag_}\")\n",
    "\n",
    "# Questions answered in comments:\n",
    "# POS tags:\n",
    "# - \"quick\": ADJ (adjective)\n",
    "# - \"jump\": VERB\n",
    "# - \"is\": AUX (auxiliary verb)\n",
    "# POS tagging helps in understanding the grammatical structure of a sentence.\n",
    "# This is useful in grammar checking to detect incorrect usage and in machine translation to understand context-sensitive word forms.\n"
   ]
  },
  {
   "cell_type": "markdown",
   "id": "8c18289d",
   "metadata": {},
   "source": [
    "## Task 3: Named Entity Recognition (NER)"
   ]
  },
  {
   "cell_type": "code",
   "execution_count": null,
   "id": "18f1acb0",
   "metadata": {},
   "outputs": [],
   "source": [
    "print(\"\\n---- Task 3: Named Entity Recognition ----\")\n",
    "text2 = \"Barack Obama was the 44th President of the United States. He was born in Hawaii.\"\n",
    "doc2 = nlp(text2)\n",
    "\n",
    "for ent in doc2.ents:\n",
    "    print(f\"Entity: {ent.text}, Label: {ent.label_}\")\n",
    "\n",
    "# Questions answered in comments:\n",
    "# Recognized entities: \"Barack Obama\", \"44th\", \"President\", \"United States\", \"Hawaii\"\n",
    "# - \"Barack Obama\": PERSON\n",
    "# - \"Hawaii\": GPE (Geo-Political Entity — e.g., countries, cities, states)\n"
   ]
  },
  {
   "cell_type": "markdown",
   "id": "69530b97",
   "metadata": {},
   "source": [
    "## Task 4: Experimentation"
   ]
  },
  {
   "cell_type": "code",
   "execution_count": null,
   "id": "851ee9e5",
   "metadata": {},
   "outputs": [],
   "source": [
    "print(\"\\n---- Task 4: Experimentation ----\")\n",
    "my_text = \"Tim Apple launched a new iPhon in Sillicon Valley. It costed $999 dollars.\"\n",
    "doc3 = nlp(my_text)\n",
    "\n",
    "print(\"\\nTokens and POS:\")\n",
    "for token in doc3:\n",
    "    print(f\"{token.text} ({token.pos_})\")\n",
    "\n",
    "print(\"\\nNamed Entities:\")\n",
    "for ent in doc3.ents:\n",
    "    print(f\"{ent.text} ({ent.label_})\")\n",
    "\n",
    "# Questions answered in comments:\n",
    "# - spaCy handles small typos like \"iPhon\" or \"Sillicon\" by not recognizing them as known entities (iPhon is not matched to iPhone, Sillicon is not matched to Silicon).\n",
    "# - \"Tim Apple\" is identified as a PERSON (though it's a joke name), \"$999\" is correctly identified as MONEY.\n",
    "# - This shows that spaCy’s entity recognition is sensitive to spelling and context, and incorrect spelling can prevent entity recognition.\n"
   ]
  }
 ],
 "metadata": {},
 "nbformat": 4,
 "nbformat_minor": 5
}