{
 "cells": [
  {
   "cell_type": "markdown",
   "id": "b5f79025",
   "metadata": {},
   "source": [
    "# Homework 8 | spaCy EntityRuler\n",
    "\n",
    "In this homework, spaCy and pandas are used to automatically extract company names and stock symbols from text using custom rules."
   ]
  },
  {
   "cell_type": "code",
   "execution_count": 45,
   "id": "42d9ebfb",
   "metadata": {},
   "outputs": [],
   "source": [
    "# Import necessary libraries\n",
    "import pandas as pd\n",
    "import spacy\n",
    "from spacy.pipeline import EntityRuler"
   ]
  },
  {
   "cell_type": "markdown",
   "id": "0186cedd",
   "metadata": {},
   "source": [
    "## Load Dataset"
   ]
  },
  {
   "cell_type": "code",
   "execution_count": 46,
   "id": "11646732",
   "metadata": {},
   "outputs": [
    {
     "data": {
      "text/html": [
       "<div>\n",
       "<style scoped>\n",
       "    .dataframe tbody tr th:only-of-type {\n",
       "        vertical-align: middle;\n",
       "    }\n",
       "\n",
       "    .dataframe tbody tr th {\n",
       "        vertical-align: top;\n",
       "    }\n",
       "\n",
       "    .dataframe thead th {\n",
       "        text-align: right;\n",
       "    }\n",
       "</style>\n",
       "<table border=\"1\" class=\"dataframe\">\n",
       "  <thead>\n",
       "    <tr style=\"text-align: right;\">\n",
       "      <th></th>\n",
       "      <th>Symbol</th>\n",
       "      <th>CompanyName</th>\n",
       "      <th>Industry</th>\n",
       "      <th>MarketCap</th>\n",
       "    </tr>\n",
       "  </thead>\n",
       "  <tbody>\n",
       "    <tr>\n",
       "      <th>0</th>\n",
       "      <td>A</td>\n",
       "      <td>Agilent Technologies</td>\n",
       "      <td>Life Sciences Tools &amp; Services</td>\n",
       "      <td>53.65B</td>\n",
       "    </tr>\n",
       "    <tr>\n",
       "      <th>1</th>\n",
       "      <td>AA</td>\n",
       "      <td>Alcoa</td>\n",
       "      <td>Metals &amp; Mining</td>\n",
       "      <td>9.25B</td>\n",
       "    </tr>\n",
       "    <tr>\n",
       "      <th>2</th>\n",
       "      <td>AAC</td>\n",
       "      <td>Ares Acquisition</td>\n",
       "      <td>Shell Companies</td>\n",
       "      <td>1.22B</td>\n",
       "    </tr>\n",
       "    <tr>\n",
       "      <th>3</th>\n",
       "      <td>AACG</td>\n",
       "      <td>ATA Creativity Global</td>\n",
       "      <td>Diversified Consumer Services</td>\n",
       "      <td>90.35M</td>\n",
       "    </tr>\n",
       "    <tr>\n",
       "      <th>4</th>\n",
       "      <td>AADI</td>\n",
       "      <td>Aadi Bioscience</td>\n",
       "      <td>Pharmaceuticals</td>\n",
       "      <td>104.85M</td>\n",
       "    </tr>\n",
       "  </tbody>\n",
       "</table>\n",
       "</div>"
      ],
      "text/plain": [
       "  Symbol            CompanyName                        Industry MarketCap\n",
       "0      A   Agilent Technologies  Life Sciences Tools & Services    53.65B\n",
       "1     AA                  Alcoa                 Metals & Mining     9.25B\n",
       "2    AAC       Ares Acquisition                 Shell Companies     1.22B\n",
       "3   AACG  ATA Creativity Global   Diversified Consumer Services    90.35M\n",
       "4   AADI        Aadi Bioscience                 Pharmaceuticals   104.85M"
      ]
     },
     "execution_count": 46,
     "metadata": {},
     "output_type": "execute_result"
    }
   ],
   "source": [
    "# Define the path to the TSV dataset file\n",
    "file_path = \"stocks-1.tsv\"\n",
    "\n",
    "# Read the TSV file into a pandas DataFrame\n",
    "df = pd.read_csv(file_path, sep=\"\\t\")\n",
    "df.head()"
   ]
  },
  {
   "cell_type": "markdown",
   "id": "30b8e5b1",
   "metadata": {},
   "source": [
    "## Create Patterns Automatically from the Dataset"
   ]
  },
  {
   "cell_type": "code",
   "execution_count": 47,
   "id": "0693ffdf",
   "metadata": {},
   "outputs": [],
   "source": [
    "# Extract unique company names\n",
    "unique_companies = df[\"CompanyName\"].dropna().unique()\n",
    "# Extract unique stock symbols\n",
    "unique_symbols = df[\"Symbol\"].dropna().unique()\n",
    "\n",
    "# Create patterns for company names with label 'COMPANY'\n",
    "company_patterns = [{\"label\": \"COMPANY\", \"pattern\": name} \n",
    "                    for name \n",
    "                    in unique_companies]\n",
    "# Create patterns for stock symbols with label 'STOCK'\n",
    "symbol_patterns = [{\"label\": \"STOCK\", \"pattern\": symbol} \n",
    "                   for symbol \n",
    "                   in unique_symbols]\n",
    "# Combine all patterns into one list\n",
    "all_patterns = company_patterns + symbol_patterns"
   ]
  },
  {
   "cell_type": "markdown",
   "id": "8f9de62e",
   "metadata": {},
   "source": [
    "## Build spaCy Pipeline and Add EntityRuler"
   ]
  },
  {
   "cell_type": "code",
   "execution_count": 48,
   "id": "c9c982e5",
   "metadata": {},
   "outputs": [],
   "source": [
    "# Initialize a blank English spaCy pipeline\n",
    "nlp = spacy.blank(\"en\")\n",
    "\n",
    "# Add EntityRuler component to the spaCy pipeline\n",
    "ruler = nlp.add_pipe(\"entity_ruler\")\n",
    "\n",
    "# Add the company and stock symbol patterns to the ruler\n",
    "ruler.add_patterns(all_patterns)"
   ]
  },
  {
   "cell_type": "markdown",
   "id": "1babc8b0",
   "metadata": {},
   "source": [
    "## Sample Paragraphs for Testing"
   ]
  },
  {
   "cell_type": "code",
   "execution_count": 49,
   "id": "00550bc6",
   "metadata": {},
   "outputs": [],
   "source": [
    "# Define sample paragraphs for testing entity recognition\n",
    "paragraphs = [\n",
    "    \"\"\"Helmerich & Payne (HP) saw its stock rise by 1.5%, fueled by optimistic forecasts in the Energy Equipment & Services sector. In contrast, Check-Cap (CHEK) faced a decline of 2.3% following its announcement of increased costs related to supply chain disruptions.\n",
    "\n",
    "Meanwhile, Vallon Pharmaceuticals (VLON) gained 0.8% after strong quarterly earnings, outperforming its peers in the Biotechnology space. Sequans Communications (SQNS) also recorded a modest increase of 0.5%, reflecting investors' confidence in its ability to navigate challenges in the Semiconductors & Semiconductor Equipment industry.\"\"\",\n",
    "\n",
    "\n",
    "    \"\"\"Aemetis (AMTX) saw its stock rise by 1.5%, fueled by optimistic forecasts in the Oil, Gas & Consumable Fuels sector. In contrast, Ferro Corporation (FOE) faced a decline of 2.3% following its announcement of increased costs related to supply chain disruptions.\n",
    "\n",
    "Meanwhile, RingCentral (RNG) gained 0.8% after strong quarterly earnings, outperforming its peers in the Software space. ACI Worldwide (ACIW) also recorded a modest increase of 0.5%, reflecting investors' confidence in its ability to navigate challenges in the Software industry.\"\"\",\n",
    "\n",
    "\n",
    "    \"\"\"On a mixed trading day, Par Pacific Holdings (PARR) saw its stock rise by 1.5%, fueled by optimistic forecasts in the Oil, Gas & Consumable Fuels sector. In contrast, Nano Dimension (NNDM) faced a decline of 2.3% following its announcement of increased costs related to supply chain disruptions.\n",
    "\n",
    "Meanwhile, Beyond Meat (BYND) gained 0.8% after strong quarterly earnings, outperforming its peers in the Food Products space. Apollo Investment (AINV) also recorded a modest increase of 0.5%, reflecting investors' confidence in its ability to navigate challenges in the Capital Markets industry.\"\"\"\n",
    "]"
   ]
  },
  {
   "cell_type": "markdown",
   "id": "9096f17c",
   "metadata": {},
   "source": [
    "## Apply EntityRuler and Extract Entities"
   ]
  },
  {
   "cell_type": "code",
   "execution_count": 50,
   "id": "dda2e472",
   "metadata": {},
   "outputs": [
    {
     "name": "stdout",
     "output_type": "stream",
     "text": [
      "Paragraph 1 Entities:\n",
      "  Helmerich & Payne (COMPANY)\n",
      "  HP (STOCK)\n",
      "  Check-Cap (COMPANY)\n",
      "  CHEK (STOCK)\n",
      "  Vallon Pharmaceuticals (COMPANY)\n",
      "  VLON (STOCK)\n",
      "  Sequans Communications (COMPANY)\n",
      "  SQNS (STOCK)\n",
      "\n",
      "----------------------------------------------------------------------\n",
      "\n",
      "Paragraph 2 Entities:\n",
      "  Aemetis (COMPANY)\n",
      "  AMTX (STOCK)\n",
      "  Ferro Corporation (COMPANY)\n",
      "  FOE (STOCK)\n",
      "  RingCentral (COMPANY)\n",
      "  RNG (STOCK)\n",
      "  ACI Worldwide (COMPANY)\n",
      "  ACIW (STOCK)\n",
      "\n",
      "----------------------------------------------------------------------\n",
      "\n",
      "Paragraph 3 Entities:\n",
      "  Par Pacific Holdings (COMPANY)\n",
      "  PARR (STOCK)\n",
      "  Nano Dimension (COMPANY)\n",
      "  NNDM (STOCK)\n",
      "  Beyond Meat (COMPANY)\n",
      "  BYND (STOCK)\n",
      "  Apollo Investment (COMPANY)\n",
      "  AINV (STOCK)\n",
      "\n",
      "----------------------------------------------------------------------\n",
      "\n"
     ]
    }
   ],
   "source": [
    "# Loop through each paragraph and apply the pipeline\n",
    "for i, text in enumerate(paragraphs, 1):\n",
    "# Process the text with spaCy\n",
    "    doc = nlp(text)\n",
    "# Print recognized entities for each paragraph\n",
    "    print(f\"Paragraph {i} Entities:\")\n",
    "    for ent in doc.ents:\n",
    "        print(f\"  {ent.text} ({ent.label_})\")\n",
    "    print(\"\\n\" + \"-\" * 70 + \"\\n\")"
   ]
  },
  {
   "cell_type": "markdown",
   "id": "9240dcc2",
   "metadata": {},
   "source": [
    "The EntityRuler correctly identified all company names and their corresponding stock symbols in each paragraph. In Paragraph 1, it recognized entities such as Helmerich & Payne (HP), Check-Cap (CHEK), Vallon Pharmaceuticals (VLON), and Sequans Communications (SQNS). Similarly, in Paragraph 2, it successfully extracted Aemetis (AMTX), Ferro Corporation (FOE), RingCentral (RNG), and ACI Worldwide (ACIW). In Paragraph 3, the ruler identified Par Pacific Holdings (PARR), Nano Dimension (NNDM), Beyond Meat (BYND), and Apollo Investment (AINV). As shown in the results above, the company names were labeled as \"COMPANY\" and their corresponding tickers as \"STOCK,\" suggesting that the custom EntityRuler -- built using patterns automatically generated from the dataset -- is effective in accurately extracting different types of entities from the text."
   ]
  }
 ],
 "metadata": {
  "kernelspec": {
   "display_name": "Python 3",
   "language": "python",
   "name": "python3"
  },
  "language_info": {
   "name": "python",
   "version": "3.11"
  }
 },
 "nbformat": 4,
 "nbformat_minor": 5
}
